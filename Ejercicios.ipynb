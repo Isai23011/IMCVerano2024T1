{
 "cells": [
  {
   "cell_type": "code",
   "execution_count": 3,
   "metadata": {},
   "outputs": [],
   "source": [
    "import chavez as c\n",
    "import fr as fr\n",
    "import fa as fa\n",
    "import chema as che\n",
    "import escamilla as esc\n",
    "import isai as i\n",
    "import jose as j\n",
    "import gustavo as g\n",
    "import milagros as m\n",
    "import rosario as r\n",
    "import formatear_tabla as ft\n",
    "import lopez as p\n",
    "import ortiz as o\n",
    "import falcon as f\n",
    "\n",
    "# Graficas\n",
    "import reyes as re\n",
    "import montaño as me\n",
    "import caracas as ca\n",
    "import paz as pa\n",
    "import atanacio as at"
   ]
  },
  {
   "cell_type": "markdown",
   "metadata": {},
   "source": [
    "# Ejercicio 7"
   ]
  },
  {
   "cell_type": "markdown",
   "metadata": {},
   "source": [
    "#### Deporte. Se entrevistó a 30 personas para que indicaran cuál es su equipo de futbol preferido. Los resultados fueron los siguientes:\n",
    "\n",
    "Pumas América Chivas Pumas Chivas\n",
    "\n",
    "Chivas América Toluca Toluca Pumas\n",
    "\n",
    "Santos Necaxa América América América\n",
    "\n",
    "Pumas Santos Pumas Pumas Pumas\n",
    "\n",
    "América Chivas América Pumas Necaxa\n",
    "\n",
    "Toluca Chivas América Toluca Santos\n",
    "\n",
    "- a. Construye la distribución de frecuencias correspondiente.\n",
    "\n",
    "- b. Construye un diagrama de barras y uno circular."
   ]
  },
  {
   "cell_type": "code",
   "execution_count": 7,
   "metadata": {},
   "outputs": [
    {
     "name": "stdout",
     "output_type": "stream",
     "text": [
      "    Clases  F absoluta  F relativa  F acumulada\n",
      "0  AMÉRICA           8   26.666667    26.666667\n",
      "1   CHIVAS           5   16.666667    43.333333\n",
      "2   NECAXA           2    6.666667    50.000000\n",
      "3    PUMAS           8   26.666667    76.666667\n",
      "4   SANTOS           3   10.000000    86.666667\n",
      "5   TOLUCA           4   13.333333   100.000000\n"
     ]
    }
   ],
   "source": [
    "# Arreglo a usar\n",
    "datos = ['Pumas', 'América', 'Chivas', 'Pumas', 'Chivas',\n",
    "        'Chivas', 'América', 'Toluca', 'Toluca', 'Pumas',\n",
    "        'Santos', 'Necaxa', 'América', 'América', 'América',\n",
    "        'Pumas', 'Santos', 'Pumas', 'Pumas', 'Pumas',\n",
    "        'América', 'Chivas', 'América', 'Pumas', 'Necaxa',\n",
    "        'Toluca', 'Chivas', 'América', 'Toluca', 'Santos']\n",
    "\n",
    "datosF = p.format_list(datos) #Cambia el formato de los datos del arreglo\n",
    "\n",
    "clases, fa_absoluta = r.frec_abs(datosF) #Calcula las clases unicas asi como su F_absoluta\n",
    "\n",
    "clases_sorted = o.clases_str_sort(clases) #Ordena las clases por ordes alfabetico\n",
    "\n",
    "fa_sorted = m.sort_clases_fa(clases, clases_sorted, fa_absoluta) #Ordena las F_absolutas\n",
    "\n",
    "fr_relativa =  g.frecuencia_rel(fa_sorted) #Calculas las F_relativas\n",
    "\n",
    "fr_acum = j.calcular_frecuencia_a(fr_relativa) #Calculas las F_acomuladas\n",
    "\n",
    "tabla = ft.imptabla(clases_sorted, fa_sorted, fr_relativa, fr_acum) #Ordena los datos recabados en una tabla\n",
    "\n",
    "\n",
    "print (tabla) #Impresion de la tabla\n",
    "\n",
    "marcas_texto = clases_sorted #Da el valor de las clases ordenadas a marcas texto\n",
    "\n",
    "# Definicion de 'titulos'\n",
    "labelx = \"Marca\"\n",
    "labely = \"Consumo\"\n",
    "titulo = \"Preferencia de bebidas\""
   ]
  },
  {
   "cell_type": "code",
   "execution_count": null,
   "metadata": {},
   "outputs": [],
   "source": []
  }
 ],
 "metadata": {
  "kernelspec": {
   "display_name": "Python 3",
   "language": "python",
   "name": "python3"
  },
  "language_info": {
   "codemirror_mode": {
    "name": "ipython",
    "version": 3
   },
   "file_extension": ".py",
   "mimetype": "text/x-python",
   "name": "python",
   "nbconvert_exporter": "python",
   "pygments_lexer": "ipython3",
   "version": "3.11.9"
  }
 },
 "nbformat": 4,
 "nbformat_minor": 2
}
